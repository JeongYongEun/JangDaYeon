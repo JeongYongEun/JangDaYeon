{
 "cells": [
  {
   "cell_type": "code",
   "execution_count": 47,
   "id": "adb5cf2c",
   "metadata": {},
   "outputs": [],
   "source": [
    "from random import randrange # 숫자를 랜덤으로 돌리기 위해 깔아야 하는 프로그램입니다.\n",
    "\n",
    "class Dice:\n",
    "    \n",
    "    def __init__(self, n = 10) : #init을 이용해 인수를 초기화 해 줍니다. 저는 경우의 수가 있기에,,, 디폴트 값은 6대신 10을 설정했습니다.\n",
    "        self.n = int(n) #특별히 넣은 값이 없다면 디폴트 값을, 삽입한 값이 있다면 해당 값이 들어갑니다. 정수형으로 설정했습니다.\n",
    "        self.number = list(range(1, n+1)) #디폴트 값 기준으로 1~10까지만 나오겠네요\n",
    "        self.index = randrange(0, self.n) #디폴트 값 기준으로 0~10까지의 수 중 하나가 랜덤으로 인덱싱됩니다.\n",
    "        \n",
    "        self.val = self.number[self.index]  #1~10까지의 리스트가 들어있는 수 중 랜덤으로 하나를 인덱싱한 값을 보여주는 함수예요. \n",
    "                                            #이게 주사위 눈의 값이 됩니다.\n",
    "        \n",
    "    def throw(self): #주사위를 던졌을 때 랜덤하게 값을 지정해 주는 함수입니다. throw를 다시 하면 0~10까지 숫자가 랜덤으로 인덱싱되고\n",
    "        self.index = randrange(0, self.n)  #그에 따라 나온 주사위눈의 값이 다시 나옵니다.\n",
    "        self.val = self.number[self.index]\n",
    "\n",
    "    def getval(self):\n",
    "        return self.val # getval 이란 이름의 함수를 부르면 self.val 그러니까 랜덤으로 나온 주사위 숫자 값을 보여줍니다.\n",
    "                        #이 함수를 반복 실행하면, 주사위 눈 내의 숫자가 실행 할 때마다 다르게 나옵니다.\n",
    "\n",
    "\n",
    "def get_input(): #이제  input함수를 이용해 진짜 숫자를 받습니다. \n",
    "    n = int(input(\"주사위 면이 될 숫자를 입력하세요 : \"))\n",
    "    return n\n",
    "\n",
    "# 실제 함수가 실행되는 부분을 만들어줍니다.\n",
    "def main():\n",
    "    n = get_input() #숫자 n을 삽입합니다.\n",
    "    mydice = Dice(n) #Dice라는 클래스에 n을 삽입한 함수를 mydice라는 이름으로 인스턴스합니다. mydice를 통해 Dice를 객체로 이용할 수 있습니다.\n",
    "    mydice.throw() #Dice라는 클래스의 throw 함수를 실행합니다.\n",
    "    if mydice.getval() == 1 :\n",
    "        print('한 번 더 ! ^_^') #특정 숫자가 걸리면 특정 숫자 대신 이 문장을 출력합니다. \n",
    "    elif mydice.getval() == 3 :\n",
    "        print('꽝 ! 아쉽네요 ㅠ_ㅠ') #특정 숫자가 걸리면 특정 숫자 대신 이 문장을 출력합니다. \n",
    "    else:\n",
    "        print(f'나의 숫자는 {mydice.getval()} 입니다.') #그 외의 나머지 숫자는 주사위 눈의 숫자 그대로 반환합니다\n",
    "\n",
    "     \n"
   ]
  },
  {
   "cell_type": "code",
   "execution_count": 48,
   "id": "289a4914",
   "metadata": {},
   "outputs": [
    {
     "name": "stdout",
     "output_type": "stream",
     "text": [
      "주사위 면이 될 숫자를 입력하세요 : 3\n",
      "꽝 ! 아쉽네요 ㅠ_ㅠ\n"
     ]
    }
   ],
   "source": [
    " if __name__ == '__main__':\n",
    "    main() #현재 모듈 안에서만 이 함수를 실행하라고 명령합니다."
   ]
  },
  {
   "cell_type": "code",
   "execution_count": null,
   "id": "b37a5d5e",
   "metadata": {},
   "outputs": [],
   "source": []
  }
 ],
 "metadata": {
  "kernelspec": {
   "display_name": "Python 3 (ipykernel)",
   "language": "python",
   "name": "python3"
  },
  "language_info": {
   "codemirror_mode": {
    "name": "ipython",
    "version": 3
   },
   "file_extension": ".py",
   "mimetype": "text/x-python",
   "name": "python",
   "nbconvert_exporter": "python",
   "pygments_lexer": "ipython3",
   "version": "3.9.7"
  }
 },
 "nbformat": 4,
 "nbformat_minor": 5
}
