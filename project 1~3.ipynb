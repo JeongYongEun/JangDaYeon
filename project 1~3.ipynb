{
 "cells": [
  {
   "cell_type": "code",
   "execution_count": 29,
   "id": "9f58493e-cf3c-4301-87b1-d18f626593b1",
   "metadata": {},
   "outputs": [],
   "source": [
    "#전화번호 일부 가리기\n",
    "def change_num(num):\n",
    "    answer = num.replace(num[-5:], '*****')\n",
    "    return answer"
   ]
  },
  {
   "cell_type": "code",
   "execution_count": 27,
   "id": "e0d2202d-9b29-4661-9948-7fecf23d3cd9",
   "metadata": {},
   "outputs": [
    {
     "data": {
      "text/plain": [
       "'010-46375-*****'"
      ]
     },
     "execution_count": 27,
     "metadata": {},
     "output_type": "execute_result"
    }
   ],
   "source": [
    "change_num('010-46375-03949')"
   ]
  },
  {
   "cell_type": "code",
   "execution_count": 28,
   "id": "bdf4cdfe-9342-425d-86a8-dca8707ff90f",
   "metadata": {},
   "outputs": [
    {
     "data": {
      "text/plain": [
       "'010-29383-*****'"
      ]
     },
     "execution_count": 28,
     "metadata": {},
     "output_type": "execute_result"
    }
   ],
   "source": [
    "change_num('010-29383-10398')"
   ]
  },
  {
   "cell_type": "code",
   "execution_count": 30,
   "id": "2aadaab9-ff7c-45ab-9685-65efd053f9bf",
   "metadata": {},
   "outputs": [
    {
     "name": "stdout",
     "output_type": "stream",
     "text": [
      "[0, 1]\n",
      "2\n",
      "3\n",
      "[[4, 5], 6, 7]\n",
      "8\n",
      "9\n",
      "10\n"
     ]
    }
   ],
   "source": [
    "#리스트 평탄화\n",
    "overlap = [[0,1],2,3,[[4,5],6,7],8,9,10]\n",
    "for element in overlap:\n",
    "    print(element)\n"
   ]
  },
  {
   "cell_type": "code",
   "execution_count": 32,
   "id": "a1e2938c-5475-4088-b64b-34d669deb515",
   "metadata": {},
   "outputs": [],
   "source": [
    "def flatten (data):\n",
    "    output = []\n",
    "    for item in data:\n",
    "        if type(item) == list:\n",
    "            output += flatten(item)\n",
    "        else:\n",
    "            output.append(item)\n",
    "    \n",
    "    return output"
   ]
  },
  {
   "cell_type": "code",
   "execution_count": 33,
   "id": "e612b0a0-393b-4a84-8f3b-456b925c7e36",
   "metadata": {},
   "outputs": [
    {
     "data": {
      "text/plain": [
       "list"
      ]
     },
     "execution_count": 33,
     "metadata": {},
     "output_type": "execute_result"
    }
   ],
   "source": [
    "type(overlap[0])"
   ]
  },
  {
   "cell_type": "code",
   "execution_count": 34,
   "id": "01ce3bcb-890a-4918-93bf-03da398db1c5",
   "metadata": {},
   "outputs": [
    {
     "data": {
      "text/plain": [
       "[0, 1, 2, 3, 4, 5, 6, 7, 8, 9, 10]"
      ]
     },
     "execution_count": 34,
     "metadata": {},
     "output_type": "execute_result"
    }
   ],
   "source": [
    "flatten(overlap)"
   ]
  },
  {
   "cell_type": "code",
   "execution_count": 35,
   "id": "eb598467-8dd8-435e-9579-8e9cc5c08abf",
   "metadata": {},
   "outputs": [],
   "source": [
    "#정수 나누기 계산식\n",
    "def int_div(x,y):\n",
    "    if x % 1 == 0 and y % 1 == 0:\n",
    "         answer =  x / y\n",
    "    else:\n",
    "        print('정수만 가능')\n",
    "        answer = None\n",
    "        \n",
    "    return answer"
   ]
  },
  {
   "cell_type": "code",
   "execution_count": 36,
   "id": "639e6c52-f2ec-468d-8630-8e96ead5089d",
   "metadata": {},
   "outputs": [
    {
     "data": {
      "text/plain": [
       "0.6666666666666666"
      ]
     },
     "execution_count": 36,
     "metadata": {},
     "output_type": "execute_result"
    }
   ],
   "source": [
    "int_div(2,3)"
   ]
  },
  {
   "cell_type": "code",
   "execution_count": 37,
   "id": "05b4dedd-00d7-468f-ace4-a1d647fedf68",
   "metadata": {},
   "outputs": [
    {
     "data": {
      "text/plain": [
       "1.0"
      ]
     },
     "execution_count": 37,
     "metadata": {},
     "output_type": "execute_result"
    }
   ],
   "source": [
    "int_div(5.0,5.0)"
   ]
  },
  {
   "cell_type": "code",
   "execution_count": 38,
   "id": "a88b3910-a214-4867-92b5-ffc4327b81ef",
   "metadata": {},
   "outputs": [
    {
     "name": "stdout",
     "output_type": "stream",
     "text": [
      "정수만 가능\n"
     ]
    }
   ],
   "source": [
    "int_div(1.2,1.0)"
   ]
  },
  {
   "cell_type": "code",
   "execution_count": null,
   "id": "e055b9dc-f655-4515-9d6f-3bde2a55cd3b",
   "metadata": {},
   "outputs": [],
   "source": []
  },
  {
   "cell_type": "code",
   "execution_count": null,
   "id": "055d8f0a-c4af-4b30-827f-1fccea6d661a",
   "metadata": {},
   "outputs": [],
   "source": []
  }
 ],
 "metadata": {
  "kernelspec": {
   "display_name": "Python 3 (ipykernel)",
   "language": "python",
   "name": "python3"
  },
  "language_info": {
   "codemirror_mode": {
    "name": "ipython",
    "version": 3
   },
   "file_extension": ".py",
   "mimetype": "text/x-python",
   "name": "python",
   "nbconvert_exporter": "python",
   "pygments_lexer": "ipython3",
   "version": "3.11.4"
  }
 },
 "nbformat": 4,
 "nbformat_minor": 5
}
